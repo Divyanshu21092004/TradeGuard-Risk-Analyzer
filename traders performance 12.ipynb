{
 "cells": [
  {
   "cell_type": "code",
   "execution_count": 40,
   "id": "6cd693fc-79fb-41a5-ba02-50b57a6ba211",
   "metadata": {},
   "outputs": [],
   "source": [
    "import pandas as pd\n",
    "import numpy as np\n",
    "import matplotlib.pyplot as plt\n",
    "import os\n",
    "from scipy import stats\n",
    "import statsmodels.api as sm\n"
   ]
  },
  {
   "cell_type": "code",
   "execution_count": null,
   "id": "be7f64a3-fe30-4f90-be97-746ff2a47ad3",
   "metadata": {},
   "outputs": [],
   "source": []
  },
  {
   "cell_type": "code",
   "execution_count": null,
   "id": "7f61cec9-4f41-42e2-92f5-37859845c7c5",
   "metadata": {},
   "outputs": [],
   "source": []
  },
  {
   "cell_type": "code",
   "execution_count": 44,
   "id": "55c563ad-ff48-4e96-b8e1-349dfd6552cc",
   "metadata": {},
   "outputs": [],
   "source": [
    "# config\n",
    "FEAR_GREED_PATH = \"fear_greed_index.csv\"\n",
    "TRADES_PATH     = \"historical_data.csv\"\n",
    "OUTPUT_DIR      = \"outputs\"\n",
    "os.makedirs(OUTPUT_DIR, exist_ok=True)\n"
   ]
  },
  {
   "cell_type": "code",
   "execution_count": 46,
   "id": "00269f23-3ab4-42be-a76d-034cb6fc07de",
   "metadata": {},
   "outputs": [],
   "source": [
    "fg = pd.read_csv(FEAR_GREED_PATH)\n",
    "\n",
    "# columns normalize\n",
    "fg.columns = [c.strip().lower().replace(\" \", \"_\") for c in fg.columns]\n",
    "\n",
    "# date parse\n",
    "fg[\"date\"] = pd.to_datetime(fg[\"date\"], errors=\"coerce\").dt.date\n",
    "\n"
   ]
  },
  {
   "cell_type": "code",
   "execution_count": null,
   "id": "988c92f8-dd0d-4e0b-bcd8-bc26ef57d12d",
   "metadata": {},
   "outputs": [],
   "source": []
  },
  {
   "cell_type": "code",
   "execution_count": 49,
   "id": "4693b75c-70fd-4ceb-a261-e21cee23f1be",
   "metadata": {},
   "outputs": [],
   "source": [
    "# classification ko normalize\n",
    "fg[\"classification\"] = fg[\"classification\"].str.upper().str.strip()\n",
    "fg[\"classification\"] = fg[\"classification\"].replace({\n",
    "    \"EXTREME GREED\": \"GREED\",\n",
    "    \"GREED\": \"GREED\",\n",
    "    \"EXTREME FEAR\": \"FEAR\",\n",
    "    \"FEAR\": \"FEAR\"\n",
    "})\n",
    "\n",
    "# flag\n",
    "fg[\"is_greed\"] = (fg[\"classification\"] == \"GREED\").astype(int)\n"
   ]
  },
  {
   "cell_type": "code",
   "execution_count": null,
   "id": "8b7ca2cc-49e0-4f30-a7b9-f396961feb34",
   "metadata": {},
   "outputs": [],
   "source": []
  },
  {
   "cell_type": "code",
   "execution_count": 51,
   "id": "496c04be-79b2-49c2-90a8-7e538ee16a37",
   "metadata": {},
   "outputs": [
    {
     "name": "stdout",
     "output_type": "stream",
     "text": [
      "['Account', 'Coin', 'Execution Price', 'Size Tokens', 'Size USD', 'Side', 'Timestamp IST', 'Start Position', 'Direction', 'Closed PnL', 'Transaction Hash', 'Order ID', 'Crossed', 'Fee', 'Trade ID', 'Timestamp']\n"
     ]
    }
   ],
   "source": [
    "\n",
    "\n",
    "tr = pd.read_csv(\"historical_data.csv\")  # file ka path correct hona chahiye\n",
    "print(tr.columns.tolist())\n"
   ]
  },
  {
   "cell_type": "code",
   "execution_count": null,
   "id": "506cb757-269f-451a-a6fc-ec3b80a85d6f",
   "metadata": {},
   "outputs": [],
   "source": []
  },
  {
   "cell_type": "code",
   "execution_count": null,
   "id": "a84be1e7-8e31-46c9-b47b-3edd5b7f513d",
   "metadata": {},
   "outputs": [],
   "source": []
  },
  {
   "cell_type": "code",
   "execution_count": 53,
   "id": "3773e4a1-0f8e-4a13-94a0-8b0780a7dce2",
   "metadata": {},
   "outputs": [],
   "source": [
    "# Hyperliquid trades load & clean\n",
    "\n",
    "tr = pd.read_csv(TRADES_PATH)\n",
    "\n",
    "# normalize columns\n",
    "tr.columns = [c.strip().lower().replace(\" \", \"_\") for c in tr.columns]"
   ]
  },
  {
   "cell_type": "code",
   "execution_count": 55,
   "id": "b49fde7a-b67c-4653-b619-8446c090a6fa",
   "metadata": {},
   "outputs": [],
   "source": [
    "# rename important fields\n",
    "rename_map = {\n",
    "    \"time\": \"time\", \n",
    "    \"timestamp_ist\": \"time\",   # tumhare dataset me time IST format me hai\n",
    "    \"side\": \"side\",\n",
    "    \"price\": \"price\",\n",
    "    \"size_usd\": \"size\",        # tumhare dataset me ye hai\n",
    "    \"closed_pnl\": \"pnl\",       # profit/loss column fix\n",
    "    \"start_position\": \"start_position\",\n",
    "    \"coin\": \"symbol\",\n",
    "    \"account\": \"account\"\n",
    "}"
   ]
  },
  {
   "cell_type": "code",
   "execution_count": 57,
   "id": "34b38a50-13e8-49fa-b56b-44600754c6b0",
   "metadata": {},
   "outputs": [],
   "source": [
    "for k, v in rename_map.items():\n",
    "    if k in tr.columns:\n",
    "        tr.rename(columns={k: v}, inplace=True)\n",
    "\n",
    "# safe time/date parsing\n",
    "if \"time\" in tr.columns:\n",
    "    tr[\"time\"] = pd.to_datetime(tr[\"time\"], errors=\"coerce\", utc=True)\n",
    "\n",
    "if \"date\" in tr.columns:\n",
    "    tr[\"date\"] = pd.to_datetime(tr[\"date\"], errors=\"coerce\").dt.date\n",
    "else:\n",
    "    tr[\"date\"] = tr[\"time\"].dt.date\n"
   ]
  },
  {
   "cell_type": "code",
   "execution_count": 59,
   "id": "fb59056f-125c-4074-87ca-51cca9034af2",
   "metadata": {},
   "outputs": [],
   "source": [
    "# normalize side\n",
    "tr[\"side\"] = tr[\"side\"].str.upper().str.strip()\n",
    "tr[\"side\"] = tr[\"side\"].replace({\"BUY\": \"LONG\", \"SELL\": \"SHORT\"})\n",
    "\n",
    "# numeric conversion\n",
    "for col in [\"pnl\", \"size\"]:\n",
    "    if col in tr.columns:\n",
    "        tr[col] = pd.to_numeric(tr[col], errors=\"coerce\")\n",
    "\n",
    "# flags\n",
    "tr[\"is_long\"] = (tr[\"side\"] == \"LONG\").astype(int)\n",
    "tr[\"is_win\"] = (tr[\"pnl\"] > 0).astype(int)"
   ]
  },
  {
   "cell_type": "code",
   "execution_count": 61,
   "id": "fcc6d016-14c2-4466-8756-da59580cdab4",
   "metadata": {},
   "outputs": [
    {
     "name": "stdout",
     "output_type": "stream",
     "text": [
      "                                      account symbol  execution_price  \\\n",
      "0  0xae5eacaf9c6b9111fd53034a602c192a04e082ed   @107           7.9769   \n",
      "1  0xae5eacaf9c6b9111fd53034a602c192a04e082ed   @107           7.9800   \n",
      "2  0xae5eacaf9c6b9111fd53034a602c192a04e082ed   @107           7.9855   \n",
      "3  0xae5eacaf9c6b9111fd53034a602c192a04e082ed   @107           7.9874   \n",
      "4  0xae5eacaf9c6b9111fd53034a602c192a04e082ed   @107           7.9894   \n",
      "\n",
      "   size_tokens     size  side                      time  start_position  \\\n",
      "0       986.87  7872.16  LONG 2024-02-12 22:50:00+00:00        0.000000   \n",
      "1        16.00   127.68  LONG 2024-02-12 22:50:00+00:00      986.524596   \n",
      "2       144.09  1150.63  LONG 2024-02-12 22:50:00+00:00     1002.518996   \n",
      "3       142.98  1142.04  LONG 2024-02-12 22:50:00+00:00     1146.558564   \n",
      "4         8.73    69.75  LONG 2024-02-12 22:50:00+00:00     1289.488521   \n",
      "\n",
      "  direction  pnl                                   transaction_hash  \\\n",
      "0       Buy  0.0  0xec09451986a1874e3a980418412fcd0201f500c95bac...   \n",
      "1       Buy  0.0  0xec09451986a1874e3a980418412fcd0201f500c95bac...   \n",
      "2       Buy  0.0  0xec09451986a1874e3a980418412fcd0201f500c95bac...   \n",
      "3       Buy  0.0  0xec09451986a1874e3a980418412fcd0201f500c95bac...   \n",
      "4       Buy  0.0  0xec09451986a1874e3a980418412fcd0201f500c95bac...   \n",
      "\n",
      "      order_id  crossed       fee      trade_id     timestamp        date  \\\n",
      "0  52017706630     True  0.345404  8.950000e+14  1.730000e+12  2024-02-12   \n",
      "1  52017706630     True  0.005600  4.430000e+14  1.730000e+12  2024-02-12   \n",
      "2  52017706630     True  0.050431  6.600000e+14  1.730000e+12  2024-02-12   \n",
      "3  52017706630     True  0.050043  1.080000e+15  1.730000e+12  2024-02-12   \n",
      "4  52017706630     True  0.003055  1.050000e+15  1.730000e+12  2024-02-12   \n",
      "\n",
      "   is_long  is_win  \n",
      "0        1       0  \n",
      "1        1       0  \n",
      "2        1       0  \n",
      "3        1       0  \n",
      "4        1       0  \n",
      "    timestamp  value classification        date  is_greed\n",
      "0  1517463000     30           FEAR  2018-02-01         0\n",
      "1  1517549400     15           FEAR  2018-02-02         0\n",
      "2  1517635800     40           FEAR  2018-02-03         0\n",
      "3  1517722200     24           FEAR  2018-02-04         0\n",
      "4  1517808600     11           FEAR  2018-02-05         0\n"
     ]
    }
   ],
   "source": [
    "print(tr.head())\n",
    "print(fg.head())\n"
   ]
  },
  {
   "cell_type": "code",
   "execution_count": null,
   "id": "7b8d997e-3772-4b81-9cba-3d7e43e9a9b4",
   "metadata": {},
   "outputs": [],
   "source": []
  },
  {
   "cell_type": "code",
   "execution_count": 63,
   "id": "e1432479-7a8d-4ec2-b80e-3cd38f24d874",
   "metadata": {},
   "outputs": [
    {
     "name": "stdout",
     "output_type": "stream",
     "text": [
      "                                      account symbol  execution_price  \\\n",
      "0  0xae5eacaf9c6b9111fd53034a602c192a04e082ed   @107           7.9769   \n",
      "1  0xae5eacaf9c6b9111fd53034a602c192a04e082ed   @107           7.9800   \n",
      "2  0xae5eacaf9c6b9111fd53034a602c192a04e082ed   @107           7.9855   \n",
      "3  0xae5eacaf9c6b9111fd53034a602c192a04e082ed   @107           7.9874   \n",
      "4  0xae5eacaf9c6b9111fd53034a602c192a04e082ed   @107           7.9894   \n",
      "\n",
      "   size_tokens     size  side                      time  start_position  \\\n",
      "0       986.87  7872.16  LONG 2024-02-12 22:50:00+00:00        0.000000   \n",
      "1        16.00   127.68  LONG 2024-02-12 22:50:00+00:00      986.524596   \n",
      "2       144.09  1150.63  LONG 2024-02-12 22:50:00+00:00     1002.518996   \n",
      "3       142.98  1142.04  LONG 2024-02-12 22:50:00+00:00     1146.558564   \n",
      "4         8.73    69.75  LONG 2024-02-12 22:50:00+00:00     1289.488521   \n",
      "\n",
      "  direction  pnl  ...     order_id  crossed       fee      trade_id  \\\n",
      "0       Buy  0.0  ...  52017706630     True  0.345404  8.950000e+14   \n",
      "1       Buy  0.0  ...  52017706630     True  0.005600  4.430000e+14   \n",
      "2       Buy  0.0  ...  52017706630     True  0.050431  6.600000e+14   \n",
      "3       Buy  0.0  ...  52017706630     True  0.050043  1.080000e+15   \n",
      "4       Buy  0.0  ...  52017706630     True  0.003055  1.050000e+15   \n",
      "\n",
      "      timestamp        date is_long  is_win  classification is_greed  \n",
      "0  1.730000e+12  2024-02-12       1       0           GREED      1.0  \n",
      "1  1.730000e+12  2024-02-12       1       0           GREED      1.0  \n",
      "2  1.730000e+12  2024-02-12       1       0           GREED      1.0  \n",
      "3  1.730000e+12  2024-02-12       1       0           GREED      1.0  \n",
      "4  1.730000e+12  2024-02-12       1       0           GREED      1.0  \n",
      "\n",
      "[5 rows x 21 columns]\n"
     ]
    }
   ],
   "source": [
    "# merge trades with sentiment on 'date'\n",
    "merged = pd.merge(\n",
    "    tr, \n",
    "    fg[[\"date\", \"classification\", \"is_greed\"]], \n",
    "    on=\"date\", \n",
    "    how=\"left\"\n",
    ")\n",
    "\n",
    "# fill unknowns (agar koi trade ka date sentiment dataset me missing ho)\n",
    "merged[\"classification\"] = merged[\"classification\"].fillna(\"UNKNOWN\")\n",
    "\n",
    "print(merged.head())\n"
   ]
  },
  {
   "cell_type": "code",
   "execution_count": null,
   "id": "35f0ef71-053d-464b-a5db-72114735c880",
   "metadata": {},
   "outputs": [],
   "source": []
  },
  {
   "cell_type": "code",
   "execution_count": 65,
   "id": "74fb775e-e5b2-4ece-94b7-893944d3b327",
   "metadata": {},
   "outputs": [
    {
     "name": "stdout",
     "output_type": "stream",
     "text": [
      "  classification  trades  win_rate     avg_pnl  median_pnl      std_pnl  \\\n",
      "0           FEAR   16195  0.369003  110.134333         0.0  1243.340984   \n",
      "1          GREED   16913  0.474783  104.447834         0.0  1569.796443   \n",
      "2        NEUTRAL    2756  0.494920   27.088803         0.0   142.945889   \n",
      "3        UNKNOWN  175360  0.407727   38.048303         0.0   797.586837   \n",
      "\n",
      "      avg_size  long_share  \n",
      "0  5511.246132    0.523310  \n",
      "1  4450.397683    0.417903  \n",
      "2  4332.202906    0.370102  \n",
      "3  5786.517359    0.491178  \n"
     ]
    }
   ],
   "source": [
    "kpi = merged.groupby(\"classification\").agg(\n",
    "    trades=(\"pnl\", \"count\"),\n",
    "    win_rate=(\"is_win\", \"mean\"),\n",
    "    avg_pnl=(\"pnl\", \"mean\"),\n",
    "    median_pnl=(\"pnl\", \"median\"),\n",
    "    std_pnl=(\"pnl\", \"std\"),\n",
    "    avg_size=(\"size\", \"mean\"),\n",
    "    long_share=(\"is_long\", \"mean\")\n",
    ").reset_index()\n",
    "\n",
    "print(kpi)"
   ]
  },
  {
   "cell_type": "code",
   "execution_count": null,
   "id": "ef69bb30-6172-49b7-9221-128c6a264e0c",
   "metadata": {},
   "outputs": [],
   "source": []
  },
  {
   "cell_type": "code",
   "execution_count": 67,
   "id": "e2fff75b-2b77-4ebc-bc13-067f5251d4b8",
   "metadata": {},
   "outputs": [
    {
     "name": "stdout",
     "output_type": "stream",
     "text": [
      "  classification   side  trades  win_rate     avg_pnl\n",
      "0           FEAR   LONG    8475  0.300413  180.978355\n",
      "1           FEAR  SHORT    7720  0.444301   32.361912\n",
      "2          GREED   LONG    7068  0.300226   14.106952\n",
      "3          GREED  SHORT    9845  0.600102  169.306071\n",
      "4        NEUTRAL   LONG    1020  0.326471   12.484274\n",
      "5        NEUTRAL  SHORT    1736  0.593894   35.669805\n",
      "6        UNKNOWN   LONG   86133  0.268515   23.934820\n",
      "7        UNKNOWN  SHORT   89227  0.542112   51.672393\n"
     ]
    }
   ],
   "source": [
    "side_sent = merged.groupby([\"classification\", \"side\"]).agg(\n",
    "    trades=(\"pnl\", \"count\"),\n",
    "    win_rate=(\"is_win\", \"mean\"),\n",
    "    avg_pnl=(\"pnl\", \"mean\")\n",
    ").reset_index()\n",
    "\n",
    "print(side_sent)\n"
   ]
  },
  {
   "cell_type": "code",
   "execution_count": null,
   "id": "aa36a500-d50c-4408-b02e-3beca3a63a7e",
   "metadata": {},
   "outputs": [],
   "source": []
  },
  {
   "cell_type": "code",
   "execution_count": 69,
   "id": "d74ef80f-7aa4-4b9d-9094-6164b6cffe43",
   "metadata": {},
   "outputs": [
    {
     "data": {
      "image/png": "[encoded data removed]",
      "text/plain": [
       "<Figure size 600x400 with 1 Axes>"
      ]
     },
     "metadata": {},
     "output_type": "display_data"
    }
   ],
   "source": [
    "import matplotlib.pyplot as plt\n",
    "\n",
    "merged[\"classification\"].value_counts().plot(kind=\"bar\", figsize=(6,4))\n",
    "plt.title(\"Number of Trades by Sentiment\")\n",
    "plt.xlabel(\"Sentiment (Fear / Greed)\")\n",
    "plt.ylabel(\"Trade Count\")\n",
    "plt.show()"
   ]
  },
  {
   "cell_type": "code",
   "execution_count": null,
   "id": "3efa9e46-a866-4268-a9ff-cc1da240e208",
   "metadata": {},
   "outputs": [],
   "source": []
  },
  {
   "cell_type": "code",
   "execution_count": 71,
   "id": "6d5e0316-4107-48fd-ac68-6652ba3466a1",
   "metadata": {},
   "outputs": [
    {
     "data": {
      "image/png": "[encoded data removed]",
      "text/plain": [
       "<Figure size 600x400 with 1 Axes>"
      ]
     },
     "metadata": {},
     "output_type": "display_data"
    }
   ],
   "source": [
    "kpi.plot(x=\"classification\", y=\"win_rate\", kind=\"bar\", figsize=(6,4), legend=False)\n",
    "plt.title(\"Win Rate by Sentiment\")\n",
    "plt.ylabel(\"Win Rate (%)\")\n",
    "plt.show()\n"
   ]
  },
  {
   "cell_type": "code",
   "execution_count": null,
   "id": "8d40d5da-4624-4174-a6cb-ee9823b426f3",
   "metadata": {},
   "outputs": [],
   "source": []
  },
  {
   "cell_type": "code",
   "execution_count": 73,
   "id": "80aae8c8-9194-40c6-baee-d191617ecdc1",
   "metadata": {},
   "outputs": [
    {
     "data": {
      "image/png": "[encoded data removed]",
      "text/plain": [
       "<Figure size 600x400 with 1 Axes>"
      ]
     },
     "metadata": {},
     "output_type": "display_data"
    }
   ],
   "source": [
    "kpi.plot(x=\"classification\", y=\"avg_pnl\", kind=\"bar\", figsize=(6,4), legend=False)\n",
    "plt.title(\"Average PnL by Sentiment\")\n",
    "plt.ylabel(\"Average Profit/Loss\")\n",
    "plt.show()\n"
   ]
  },
  {
   "cell_type": "code",
   "execution_count": null,
   "id": "d328951f-1aaa-4f63-9d08-b15db280a23d",
   "metadata": {},
   "outputs": [],
   "source": []
  },
  {
   "cell_type": "code",
   "execution_count": 75,
   "id": "2838fbac-6787-4657-bba9-b05cd2646573",
   "metadata": {},
   "outputs": [
    {
     "data": {
      "image/png": "[encoded data removed]",
      "text/plain": [
       "<Figure size 700x500 with 1 Axes>"
      ]
     },
     "metadata": {},
     "output_type": "display_data"
    }
   ],
   "source": [
    "import seaborn as sns\n",
    "\n",
    "plt.figure(figsize=(7,5))\n",
    "sns.barplot(data=side_sent, x=\"classification\", y=\"avg_pnl\", hue=\"side\")\n",
    "plt.title(\"Average PnL by Side × Sentiment\")\n",
    "plt.ylabel(\"Average Profit/Loss\")\n",
    "plt.show()"
   ]
  },
  {
   "cell_type": "code",
   "execution_count": null,
   "id": "61d2ff6b-f7e5-49d2-9a99-ba9a99af066a",
   "metadata": {},
   "outputs": [],
   "source": []
  },
  {
   "cell_type": "code",
   "execution_count": 77,
   "id": "b762a62e-d524-4971-87db-92c8223d31cb",
   "metadata": {},
   "outputs": [],
   "source": [
    "kpi.to_csv(\"kpi_by_sentiment.csv\", index=False)\n",
    "side_sent.to_csv(\"kpi_by_side_sentiment.csv\", index=False)\n"
   ]
  },
  {
   "cell_type": "code",
   "execution_count": 79,
   "id": "868e8127-287b-4031-8437-03c155ad98fa",
   "metadata": {},
   "outputs": [],
   "source": [
    "merged.to_csv(\"trades_with_sentiment.csv\", index=False)\n"
   ]
  },
  {
   "cell_type": "code",
   "execution_count": 81,
   "id": "1b3fbda7-b791-404b-a848-e2f9074f9989",
   "metadata": {},
   "outputs": [
    {
     "name": "stdout",
     "output_type": "stream",
     "text": [
      "['account', 'symbol', 'execution_price', 'size_tokens', 'size', 'side', 'time', 'start_position', 'direction', 'pnl', 'transaction_hash', 'order_id', 'crossed', 'fee', 'trade_id', 'timestamp', 'date', 'is_long', 'is_win', 'classification', 'is_greed']\n"
     ]
    }
   ],
   "source": [
    "print(merged.columns.tolist())\n"
   ]
  },
  {
   "cell_type": "code",
   "execution_count": null,
   "id": "1cb85acb-c666-4ffd-9bd7-5ca1eacc999c",
   "metadata": {},
   "outputs": [],
   "source": []
  },
  {
   "cell_type": "code",
   "execution_count": 83,
   "id": "2c715726-e2dc-4efa-982a-13e4b4d3568d",
   "metadata": {},
   "outputs": [
    {
     "name": "stdout",
     "output_type": "stream",
     "text": [
      "=== INSIGHTS REPORT ===\n",
      "Average PnL across all trades: 48.75 USD\n"
     ]
    }
   ],
   "source": [
    "print(\"=== INSIGHTS REPORT ===\")\n",
    "\n",
    "# 1. Overall PnL performance\n",
    "overall_pnl = merged[\"pnl\"].mean()\n",
    "print(f\"Average PnL across all trades: {overall_pnl:.2f} USD\")\n"
   ]
  },
  {
   "cell_type": "code",
   "execution_count": 85,
   "id": "b881142b-2461-40cd-9b19-20c333516684",
   "metadata": {},
   "outputs": [
    {
     "name": "stdout",
     "output_type": "stream",
     "text": [
      "\n",
      "Win Rate by Sentiment:\n",
      "classification\n",
      "FEAR       36.900278\n",
      "GREED      47.478271\n",
      "NEUTRAL    49.492017\n",
      "UNKNOWN    40.772696\n",
      "Name: is_win, dtype: float64\n"
     ]
    }
   ],
   "source": [
    "# 2. Sentiment-wise Win Rate\n",
    "sentiment_wr = merged.groupby(\"classification\")[\"is_win\"].mean() * 100\n",
    "print(\"\\nWin Rate by Sentiment:\")\n",
    "print(sentiment_wr)"
   ]
  },
  {
   "cell_type": "code",
   "execution_count": 87,
   "id": "3b0534b0-10aa-443e-8b72-6c70c8ae1d5b",
   "metadata": {},
   "outputs": [
    {
     "name": "stdout",
     "output_type": "stream",
     "text": [
      "\n",
      "Avg PnL by Side and Sentiment:\n",
      "classification  side \n",
      "FEAR            LONG     180.978355\n",
      "                SHORT     32.361912\n",
      "GREED           LONG      14.106952\n",
      "                SHORT    169.306071\n",
      "NEUTRAL         LONG      12.484274\n",
      "                SHORT     35.669805\n",
      "UNKNOWN         LONG      23.934820\n",
      "                SHORT     51.672393\n",
      "Name: pnl, dtype: float64\n"
     ]
    }
   ],
   "source": [
    "# 3. Side (LONG/SHORT) performance by sentiment\n",
    "side_perf = merged.groupby([\"classification\", \"side\"])[\"pnl\"].mean()\n",
    "print(\"\\nAvg PnL by Side and Sentiment:\")\n",
    "print(side_perf)"
   ]
  },
  {
   "cell_type": "code",
   "execution_count": 89,
   "id": "94f37e42-2243-4de9-9447-2d066688dc4e",
   "metadata": {},
   "outputs": [
    {
     "name": "stdout",
     "output_type": "stream",
     "text": [
      "\n",
      "Best performing sentiment (highest avg pnl): FEAR\n"
     ]
    }
   ],
   "source": [
    "# 4. Most favorable sentiment\n",
    "best_sent = merged.groupby(\"classification\")[\"pnl\"].mean().idxmax()\n",
    "print(f\"\\nBest performing sentiment (highest avg pnl): {best_sent}\")"
   ]
  },
  {
   "cell_type": "code",
   "execution_count": 91,
   "id": "aeca8c7c-885c-44a5-913d-a58481e3afd4",
   "metadata": {},
   "outputs": [
    {
     "name": "stdout",
     "output_type": "stream",
     "text": [
      "Most risky sentiment (lowest avg pnl): NEUTRAL\n"
     ]
    }
   ],
   "source": [
    "# 5. Most risky sentiment\n",
    "worst_sent = merged.groupby(\"classification\")[\"pnl\"].mean().idxmin()\n",
    "print(f\"Most risky sentiment (lowest avg pnl): {worst_sent}\")\n"
   ]
  },
  {
   "cell_type": "code",
   "execution_count": null,
   "id": "038be037-552d-4811-8665-e63af6c5c963",
   "metadata": {},
   "outputs": [],
   "source": []
  },
  {
   "cell_type": "code",
   "execution_count": null,
   "id": "2399c561-46b0-4b1a-a67c-135ff0ea383d",
   "metadata": {},
   "outputs": [],
   "source": []
  },
  {
   "cell_type": "code",
   "execution_count": 93,
   "id": "f2ab5272-a0a0-48d5-b10e-e0f35af0eef6",
   "metadata": {},
   "outputs": [],
   "source": [
    "with open(\"traders_insights_report.txt\", \"w\") as f:\n",
    "    f.write(\"=== TRADER BEHAVIOR INSIGHTS REPORT ===\\n\\n\")\n",
    "\n",
    "    # Overall PnL\n",
    "    overall_pnl = merged[\"pnl\"].mean()\n",
    "    f.write(f\"Average PnL across all trades: {overall_pnl:.2f} USD\\n\\n\")\n",
    "\n",
    "    # Sentiment-wise Win Rate\n",
    "    f.write(\"Win Rate by Sentiment:\\n\")\n",
    "    sentiment_wr = merged.groupby(\"classification\")[\"is_win\"].mean() * 100\n",
    "    f.write(sentiment_wr.to_string() + \"\\n\\n\")\n",
    "\n",
    "    # Side performance\n",
    "    f.write(\"Avg PnL by Side and Sentiment:\\n\")\n",
    "    side_perf = merged.groupby([\"classification\", \"side\"])[\"pnl\"].mean()\n",
    "    f.write(side_perf.to_string() + \"\\n\\n\")\n",
    "\n",
    "    # Best & Worst sentiment\n",
    "    best_sent = merged.groupby(\"classification\")[\"pnl\"].mean().idxmax()\n",
    "    worst_sent = merged.groupby(\"classification\")[\"pnl\"].mean().idxmin()\n",
    "    f.write(f\"Best performing sentiment (highest avg pnl): {best_sent}\\n\")\n",
    "    f.write(f\"Most risky sentiment (lowest avg pnl): {worst_sent}\\n\")\n"
   ]
  },
  {
   "cell_type": "code",
   "execution_count": null,
   "id": "4e481f4b-5a27-4fe6-bc8a-e3c69786f786",
   "metadata": {},
   "outputs": [],
   "source": []
  },
  {
   "cell_type": "code",
   "execution_count": null,
   "id": "3e8d7a07-9f6a-4276-ab83-6686899d8eaf",
   "metadata": {},
   "outputs": [],
   "source": []
  }
 ],
 "metadata": {
  "kernelspec": {
   "display_name": "Python 3 (ipykernel)",
   "language": "python",
   "name": "python3"
  },
  "language_info": {
   "codemirror_mode": {
    "name": "ipython",
    "version": 3
   },
   "file_extension": ".py",
   "mimetype": "text/x-python",
   "name": "python",
   "nbconvert_exporter": "python",
   "pygments_lexer": "ipython3",
   "version": "3.12.4"
  }
 },
 "nbformat": 4,
 "nbformat_minor": 5
}
